{
 "cells": [
  {
   "cell_type": "code",
   "execution_count": 1,
   "metadata": {},
   "outputs": [
    {
     "name": "stdout",
     "output_type": "stream",
     "text": [
      "Requirement already satisfied: tensorflow-gpu in c:\\users\\abc\\anaconda3\\lib\\site-packages (2.8.0)\n",
      "Requirement already satisfied: tensorboard<2.9,>=2.8 in c:\\users\\abc\\anaconda3\\lib\\site-packages (from tensorflow-gpu) (2.8.0)\n",
      "Requirement already satisfied: absl-py>=0.4.0 in c:\\users\\abc\\anaconda3\\lib\\site-packages (from tensorflow-gpu) (1.0.0)\n",
      "Requirement already satisfied: termcolor>=1.1.0 in c:\\users\\abc\\anaconda3\\lib\\site-packages (from tensorflow-gpu) (1.1.0)\n",
      "Requirement already satisfied: gast>=0.2.1 in c:\\users\\abc\\anaconda3\\lib\\site-packages (from tensorflow-gpu) (0.4.0)\n",
      "Requirement already satisfied: wrapt>=1.11.0 in c:\\users\\abc\\anaconda3\\lib\\site-packages (from tensorflow-gpu) (1.11.2)\n",
      "Requirement already satisfied: tensorflow-io-gcs-filesystem>=0.23.1 in c:\\users\\abc\\anaconda3\\lib\\site-packages (from tensorflow-gpu) (0.24.0)\n",
      "Requirement already satisfied: google-pasta>=0.1.1 in c:\\users\\abc\\anaconda3\\lib\\site-packages (from tensorflow-gpu) (0.2.0)\n",
      "Requirement already satisfied: protobuf>=3.9.2 in c:\\users\\abc\\anaconda3\\lib\\site-packages (from tensorflow-gpu) (3.19.1)\n",
      "Requirement already satisfied: grpcio<2.0,>=1.24.3 in c:\\users\\abc\\anaconda3\\lib\\site-packages (from tensorflow-gpu) (1.42.0)\n",
      "Requirement already satisfied: keras-preprocessing>=1.1.1 in c:\\users\\abc\\anaconda3\\lib\\site-packages (from tensorflow-gpu) (1.1.2)\n",
      "Requirement already satisfied: six>=1.12.0 in c:\\users\\abc\\anaconda3\\lib\\site-packages (from tensorflow-gpu) (1.15.0)\n",
      "Requirement already satisfied: flatbuffers>=1.12 in c:\\users\\abc\\anaconda3\\lib\\site-packages (from tensorflow-gpu) (2.0)\n",
      "Requirement already satisfied: h5py>=2.9.0 in c:\\users\\abc\\anaconda3\\lib\\site-packages (from tensorflow-gpu) (2.10.0)\n",
      "Requirement already satisfied: numpy>=1.20 in c:\\users\\abc\\anaconda3\\lib\\site-packages (from tensorflow-gpu) (1.22.4)\n",
      "Requirement already satisfied: tf-estimator-nightly==2.8.0.dev2021122109 in c:\\users\\abc\\anaconda3\\lib\\site-packages (from tensorflow-gpu) (2.8.0.dev2021122109)\n",
      "Requirement already satisfied: typing-extensions>=3.6.6 in c:\\users\\abc\\anaconda3\\lib\\site-packages (from tensorflow-gpu) (3.7.4.2)\n",
      "Requirement already satisfied: opt-einsum>=2.3.2 in c:\\users\\abc\\anaconda3\\lib\\site-packages (from tensorflow-gpu) (3.3.0)\n",
      "Requirement already satisfied: setuptools in c:\\users\\abc\\anaconda3\\lib\\site-packages (from tensorflow-gpu) (49.2.0.post20200714)\n",
      "Requirement already satisfied: astunparse>=1.6.0 in c:\\users\\abc\\anaconda3\\lib\\site-packages (from tensorflow-gpu) (1.6.3)\n",
      "Collecting keras<2.9,>=2.8.0rc0\n",
      "  Using cached keras-2.8.0-py2.py3-none-any.whl (1.4 MB)\n",
      "Requirement already satisfied: libclang>=9.0.1 in c:\\users\\abc\\anaconda3\\lib\\site-packages (from tensorflow-gpu) (12.0.0)\n",
      "Requirement already satisfied: wheel<1.0,>=0.23.0 in c:\\users\\abc\\anaconda3\\lib\\site-packages (from astunparse>=1.6.0->tensorflow-gpu) (0.34.2)\n",
      "Requirement already satisfied: tensorboard-data-server<0.7.0,>=0.6.0 in c:\\users\\abc\\anaconda3\\lib\\site-packages (from tensorboard<2.9,>=2.8->tensorflow-gpu) (0.6.1)\n",
      "Requirement already satisfied: google-auth<3,>=1.6.3 in c:\\users\\abc\\anaconda3\\lib\\site-packages (from tensorboard<2.9,>=2.8->tensorflow-gpu) (2.3.3)\n",
      "Requirement already satisfied: werkzeug>=0.11.15 in c:\\users\\abc\\anaconda3\\lib\\site-packages (from tensorboard<2.9,>=2.8->tensorflow-gpu) (1.0.1)\n",
      "Requirement already satisfied: requests<3,>=2.21.0 in c:\\users\\abc\\anaconda3\\lib\\site-packages (from tensorboard<2.9,>=2.8->tensorflow-gpu) (2.27.1)\n",
      "Requirement already satisfied: markdown>=2.6.8 in c:\\users\\abc\\anaconda3\\lib\\site-packages (from tensorboard<2.9,>=2.8->tensorflow-gpu) (3.3.6)\n",
      "Requirement already satisfied: google-auth-oauthlib<0.5,>=0.4.1 in c:\\users\\abc\\anaconda3\\lib\\site-packages (from tensorboard<2.9,>=2.8->tensorflow-gpu) (0.4.6)\n",
      "Requirement already satisfied: tensorboard-plugin-wit>=1.6.0 in c:\\users\\abc\\anaconda3\\lib\\site-packages (from tensorboard<2.9,>=2.8->tensorflow-gpu) (1.8.0)\n",
      "Requirement already satisfied: rsa<5,>=3.1.4 in c:\\users\\abc\\anaconda3\\lib\\site-packages (from google-auth<3,>=1.6.3->tensorboard<2.9,>=2.8->tensorflow-gpu) (4.8)\n",
      "Requirement already satisfied: pyasn1-modules>=0.2.1 in c:\\users\\abc\\anaconda3\\lib\\site-packages (from google-auth<3,>=1.6.3->tensorboard<2.9,>=2.8->tensorflow-gpu) (0.2.8)\n",
      "Requirement already satisfied: cachetools<5.0,>=2.0.0 in c:\\users\\abc\\anaconda3\\lib\\site-packages (from google-auth<3,>=1.6.3->tensorboard<2.9,>=2.8->tensorflow-gpu) (4.2.4)\n",
      "Requirement already satisfied: requests-oauthlib>=0.7.0 in c:\\users\\abc\\anaconda3\\lib\\site-packages (from google-auth-oauthlib<0.5,>=0.4.1->tensorboard<2.9,>=2.8->tensorflow-gpu) (1.3.0)\n",
      "Requirement already satisfied: importlib-metadata>=4.4 in c:\\users\\abc\\anaconda3\\lib\\site-packages (from markdown>=2.6.8->tensorboard<2.9,>=2.8->tensorflow-gpu) (4.8.2)\n",
      "Requirement already satisfied: urllib3<1.27,>=1.21.1 in c:\\users\\abc\\anaconda3\\lib\\site-packages (from requests<3,>=2.21.0->tensorboard<2.9,>=2.8->tensorflow-gpu) (1.26.9)\n",
      "Requirement already satisfied: idna<4,>=2.5 in c:\\users\\abc\\anaconda3\\lib\\site-packages (from requests<3,>=2.21.0->tensorboard<2.9,>=2.8->tensorflow-gpu) (2.10)\n",
      "Requirement already satisfied: certifi>=2017.4.17 in c:\\users\\abc\\anaconda3\\lib\\site-packages (from requests<3,>=2.21.0->tensorboard<2.9,>=2.8->tensorflow-gpu) (2022.5.18.1)\n",
      "Requirement already satisfied: charset-normalizer~=2.0.0 in c:\\users\\abc\\anaconda3\\lib\\site-packages (from requests<3,>=2.21.0->tensorboard<2.9,>=2.8->tensorflow-gpu) (2.0.12)\n",
      "Requirement already satisfied: zipp>=0.5 in c:\\users\\abc\\anaconda3\\lib\\site-packages (from importlib-metadata>=4.4->markdown>=2.6.8->tensorboard<2.9,>=2.8->tensorflow-gpu) (3.1.0)\n",
      "Requirement already satisfied: pyasn1<0.5.0,>=0.4.6 in c:\\users\\abc\\anaconda3\\lib\\site-packages (from pyasn1-modules>=0.2.1->google-auth<3,>=1.6.3->tensorboard<2.9,>=2.8->tensorflow-gpu) (0.4.8)\n",
      "Requirement already satisfied: oauthlib>=3.0.0 in c:\\users\\abc\\anaconda3\\lib\\site-packages (from requests-oauthlib>=0.7.0->google-auth-oauthlib<0.5,>=0.4.1->tensorboard<2.9,>=2.8->tensorflow-gpu) (3.1.1)\n",
      "Installing collected packages: keras\n",
      "  Attempting uninstall: keras\n",
      "    Found existing installation: keras 2.7.0\n",
      "    Uninstalling keras-2.7.0:\n",
      "      Successfully uninstalled keras-2.7.0\n",
      "Successfully installed keras-2.8.0\n"
     ]
    },
    {
     "name": "stderr",
     "output_type": "stream",
     "text": [
      "ERROR: pip's dependency resolver does not currently take into account all the packages that are installed. This behaviour is the source of the following dependency conflicts.\n",
      "tensorflow 2.7.0 requires keras<2.8,>=2.7.0rc0, but you have keras 2.8.0 which is incompatible.\n",
      "WARNING: There was an error checking the latest version of pip.\n"
     ]
    }
   ],
   "source": [
    "!pip install tensorflow-gpu"
   ]
  },
  {
   "cell_type": "code",
   "execution_count": 2,
   "metadata": {},
   "outputs": [],
   "source": [
    "import tensorflow as tf"
   ]
  },
  {
   "cell_type": "code",
   "execution_count": 3,
   "metadata": {},
   "outputs": [
    {
     "name": "stdout",
     "output_type": "stream",
     "text": [
      "2.8.0\n"
     ]
    }
   ],
   "source": [
    "print(tf.__version__)"
   ]
  },
  {
   "cell_type": "code",
   "execution_count": 4,
   "metadata": {},
   "outputs": [],
   "source": [
    "# Importing the libraries\n",
    "import numpy as np\n",
    "import matplotlib.pyplot as plt\n",
    "import pandas as pd"
   ]
  },
  {
   "cell_type": "code",
   "execution_count": 6,
   "metadata": {},
   "outputs": [],
   "source": [
    "# Importing the dataset\n",
    "dataset = pd.read_csv('Churn_Modelling.csv')\n",
    "X = dataset.iloc[:, 3:13]\n",
    "y = dataset.iloc[:, 13]"
   ]
  },
  {
   "cell_type": "code",
   "execution_count": 7,
   "metadata": {},
   "outputs": [],
   "source": [
    "#Create dummy variables\n",
    "geography=pd.get_dummies(X[\"Geography\"],drop_first=True)\n",
    "gender=pd.get_dummies(X['Gender'],drop_first=True)"
   ]
  },
  {
   "cell_type": "code",
   "execution_count": 8,
   "metadata": {},
   "outputs": [],
   "source": [
    "## Concatenate the Data Frames\n",
    "\n",
    "X=pd.concat([X,geography,gender],axis=1)\n",
    "\n",
    "## Drop Unnecessary columns\n",
    "X=X.drop(['Geography','Gender'],axis=1)\n",
    "\n",
    "# Splitting the dataset into the Training set and Test set\n",
    "from sklearn.model_selection import train_test_split\n",
    "X_train, X_test, y_train, y_test = train_test_split(X, y, test_size = 0.2, random_state = 0)"
   ]
  },
  {
   "cell_type": "code",
   "execution_count": 9,
   "metadata": {},
   "outputs": [],
   "source": [
    "# Feature Scaling\n",
    "from sklearn.preprocessing import StandardScaler\n",
    "sc = StandardScaler()\n",
    "X_train = sc.fit_transform(X_train)\n",
    "X_test = sc.transform(X_test)"
   ]
  },
  {
   "cell_type": "code",
   "execution_count": 10,
   "metadata": {},
   "outputs": [],
   "source": [
    "from keras.models import Sequential\n",
    "from keras.layers import Dense\n",
    "from keras.layers import LeakyReLU,PReLU,ELU\n",
    "from keras.layers import Dropout"
   ]
  },
  {
   "cell_type": "code",
   "execution_count": 11,
   "metadata": {},
   "outputs": [],
   "source": [
    "# Initialising the ANN\n",
    "classifier = Sequential()"
   ]
  },
  {
   "cell_type": "code",
   "execution_count": 12,
   "metadata": {},
   "outputs": [],
   "source": [
    "classifier.add(Dense(units=11,activation='relu'))"
   ]
  },
  {
   "cell_type": "code",
   "execution_count": 13,
   "metadata": {},
   "outputs": [],
   "source": [
    "classifier.add(Dense(units=6,activation='relu'))"
   ]
  },
  {
   "cell_type": "code",
   "execution_count": 14,
   "metadata": {},
   "outputs": [],
   "source": [
    "classifier.add(Dense(units=1,activation='relu'))"
   ]
  },
  {
   "cell_type": "code",
   "execution_count": 15,
   "metadata": {},
   "outputs": [],
   "source": [
    "classifier.compile(optimizer='adam',loss='binary_crossentropy',metrics=['accuracy'])"
   ]
  },
  {
   "cell_type": "code",
   "execution_count": 16,
   "metadata": {},
   "outputs": [
    {
     "name": "stdout",
     "output_type": "stream",
     "text": [
      "Epoch 1/50\n",
      "536/536 [==============================] - 1s 2ms/step - loss: 3.1431 - accuracy: 0.7962 - val_loss: 3.1539 - val_accuracy: 0.7955\n",
      "Epoch 2/50\n",
      "536/536 [==============================] - 1s 1ms/step - loss: 3.1431 - accuracy: 0.7962 - val_loss: 3.1539 - val_accuracy: 0.7955\n",
      "Epoch 3/50\n",
      "536/536 [==============================] - 1s 1ms/step - loss: 3.1431 - accuracy: 0.7962 - val_loss: 3.1539 - val_accuracy: 0.7955\n",
      "Epoch 4/50\n",
      "536/536 [==============================] - 1s 1ms/step - loss: 3.1431 - accuracy: 0.7962 - val_loss: 3.1539 - val_accuracy: 0.7955\n",
      "Epoch 5/50\n",
      "536/536 [==============================] - 1s 2ms/step - loss: 3.1431 - accuracy: 0.7962 - val_loss: 3.1539 - val_accuracy: 0.7955\n",
      "Epoch 6/50\n",
      "536/536 [==============================] - 1s 2ms/step - loss: 3.1431 - accuracy: 0.7962 - val_loss: 3.1539 - val_accuracy: 0.7955\n",
      "Epoch 7/50\n",
      "536/536 [==============================] - 1s 1ms/step - loss: 3.1431 - accuracy: 0.7962 - val_loss: 3.1539 - val_accuracy: 0.7955\n",
      "Epoch 8/50\n",
      "536/536 [==============================] - 1s 1ms/step - loss: 3.1431 - accuracy: 0.7962 - val_loss: 3.1539 - val_accuracy: 0.7955\n",
      "Epoch 9/50\n",
      "536/536 [==============================] - 1s 1ms/step - loss: 3.1431 - accuracy: 0.7962 - val_loss: 3.1539 - val_accuracy: 0.7955\n",
      "Epoch 10/50\n",
      "536/536 [==============================] - 1s 1ms/step - loss: 3.1431 - accuracy: 0.7962 - val_loss: 3.1539 - val_accuracy: 0.7955\n",
      "Epoch 11/50\n",
      "536/536 [==============================] - 1s 1ms/step - loss: 3.1431 - accuracy: 0.7962 - val_loss: 3.1539 - val_accuracy: 0.7955\n",
      "Epoch 12/50\n",
      "536/536 [==============================] - 1s 1ms/step - loss: 3.1431 - accuracy: 0.7962 - val_loss: 3.1539 - val_accuracy: 0.7955\n",
      "Epoch 13/50\n",
      "536/536 [==============================] - 1s 1ms/step - loss: 3.1431 - accuracy: 0.7962 - val_loss: 3.1539 - val_accuracy: 0.7955\n",
      "Epoch 14/50\n",
      "536/536 [==============================] - 1s 1ms/step - loss: 3.1431 - accuracy: 0.7962 - val_loss: 3.1539 - val_accuracy: 0.7955\n",
      "Epoch 15/50\n",
      "536/536 [==============================] - 1s 2ms/step - loss: 3.1431 - accuracy: 0.7962 - val_loss: 3.1539 - val_accuracy: 0.7955\n",
      "Epoch 16/50\n",
      "536/536 [==============================] - 1s 1ms/step - loss: 3.1431 - accuracy: 0.7962 - val_loss: 3.1539 - val_accuracy: 0.7955\n",
      "Epoch 17/50\n",
      "536/536 [==============================] - 1s 1ms/step - loss: 3.1431 - accuracy: 0.7962 - val_loss: 3.1539 - val_accuracy: 0.7955\n",
      "Epoch 18/50\n",
      "536/536 [==============================] - 1s 1ms/step - loss: 3.1431 - accuracy: 0.7962 - val_loss: 3.1539 - val_accuracy: 0.7955\n",
      "Epoch 19/50\n",
      "536/536 [==============================] - 1s 1ms/step - loss: 3.1431 - accuracy: 0.7962 - val_loss: 3.1539 - val_accuracy: 0.7955\n",
      "Epoch 20/50\n",
      "536/536 [==============================] - 1s 1ms/step - loss: 3.1431 - accuracy: 0.7962 - val_loss: 3.1539 - val_accuracy: 0.7955\n",
      "Epoch 21/50\n",
      "536/536 [==============================] - 1s 1ms/step - loss: 3.1431 - accuracy: 0.7962 - val_loss: 3.1539 - val_accuracy: 0.7955\n",
      "Epoch 22/50\n",
      "536/536 [==============================] - 1s 1ms/step - loss: 3.1431 - accuracy: 0.7962 - val_loss: 3.1539 - val_accuracy: 0.7955\n",
      "Epoch 23/50\n",
      "536/536 [==============================] - 1s 1ms/step - loss: 3.1431 - accuracy: 0.7962 - val_loss: 3.1539 - val_accuracy: 0.7955\n",
      "Epoch 24/50\n",
      "536/536 [==============================] - 1s 1ms/step - loss: 3.1431 - accuracy: 0.7962 - val_loss: 3.1539 - val_accuracy: 0.7955\n",
      "Epoch 25/50\n",
      "536/536 [==============================] - 1s 1ms/step - loss: 3.1431 - accuracy: 0.7962 - val_loss: 3.1539 - val_accuracy: 0.7955\n",
      "Epoch 26/50\n",
      "536/536 [==============================] - 1s 2ms/step - loss: 3.1431 - accuracy: 0.7962 - val_loss: 3.1539 - val_accuracy: 0.7955\n",
      "Epoch 27/50\n",
      "536/536 [==============================] - 1s 2ms/step - loss: 3.1431 - accuracy: 0.7962 - val_loss: 3.1539 - val_accuracy: 0.7955\n",
      "Epoch 28/50\n",
      "536/536 [==============================] - 1s 1ms/step - loss: 3.1431 - accuracy: 0.7962 - val_loss: 3.1539 - val_accuracy: 0.7955\n",
      "Epoch 29/50\n",
      "536/536 [==============================] - 1s 2ms/step - loss: 3.1431 - accuracy: 0.7962 - val_loss: 3.1539 - val_accuracy: 0.7955\n",
      "Epoch 30/50\n",
      "536/536 [==============================] - 1s 2ms/step - loss: 3.1431 - accuracy: 0.7962 - val_loss: 3.1539 - val_accuracy: 0.7955\n",
      "Epoch 31/50\n",
      "536/536 [==============================] - 1s 2ms/step - loss: 3.1431 - accuracy: 0.7962 - val_loss: 3.1539 - val_accuracy: 0.7955\n",
      "Epoch 32/50\n",
      "536/536 [==============================] - 1s 2ms/step - loss: 3.1431 - accuracy: 0.7962 - val_loss: 3.1539 - val_accuracy: 0.7955\n",
      "Epoch 33/50\n",
      "536/536 [==============================] - 1s 2ms/step - loss: 3.1431 - accuracy: 0.7962 - val_loss: 3.1539 - val_accuracy: 0.7955\n",
      "Epoch 34/50\n",
      "536/536 [==============================] - 1s 1ms/step - loss: 3.1431 - accuracy: 0.7962 - val_loss: 3.1539 - val_accuracy: 0.7955\n",
      "Epoch 35/50\n",
      "536/536 [==============================] - 1s 1ms/step - loss: 3.1431 - accuracy: 0.7962 - val_loss: 3.1539 - val_accuracy: 0.7955\n",
      "Epoch 36/50\n",
      "536/536 [==============================] - 1s 1ms/step - loss: 3.1431 - accuracy: 0.7962 - val_loss: 3.1539 - val_accuracy: 0.7955\n",
      "Epoch 37/50\n",
      "536/536 [==============================] - 1s 1ms/step - loss: 3.1431 - accuracy: 0.7962 - val_loss: 3.1539 - val_accuracy: 0.7955\n",
      "Epoch 38/50\n",
      "536/536 [==============================] - 1s 1ms/step - loss: 3.1431 - accuracy: 0.7962 - val_loss: 3.1539 - val_accuracy: 0.7955\n",
      "Epoch 39/50\n",
      "536/536 [==============================] - 1s 1ms/step - loss: 3.1431 - accuracy: 0.7962 - val_loss: 3.1539 - val_accuracy: 0.7955\n",
      "Epoch 40/50\n",
      "536/536 [==============================] - 1s 1ms/step - loss: 3.1431 - accuracy: 0.7962 - val_loss: 3.1539 - val_accuracy: 0.7955\n",
      "Epoch 41/50\n",
      "536/536 [==============================] - 1s 1ms/step - loss: 3.1431 - accuracy: 0.7962 - val_loss: 3.1539 - val_accuracy: 0.7955\n",
      "Epoch 42/50\n",
      "536/536 [==============================] - 1s 1ms/step - loss: 3.1431 - accuracy: 0.7962 - val_loss: 3.1539 - val_accuracy: 0.7955\n",
      "Epoch 43/50\n",
      "536/536 [==============================] - 1s 1ms/step - loss: 3.1431 - accuracy: 0.7962 - val_loss: 3.1539 - val_accuracy: 0.7955\n",
      "Epoch 44/50\n",
      "536/536 [==============================] - 1s 1ms/step - loss: 3.1431 - accuracy: 0.7962 - val_loss: 3.1539 - val_accuracy: 0.7955\n",
      "Epoch 45/50\n",
      "536/536 [==============================] - 1s 1ms/step - loss: 3.1431 - accuracy: 0.7962 - val_loss: 3.1539 - val_accuracy: 0.7955\n",
      "Epoch 46/50\n",
      "536/536 [==============================] - 1s 1ms/step - loss: 3.1431 - accuracy: 0.7962 - val_loss: 3.1539 - val_accuracy: 0.7955\n",
      "Epoch 47/50\n",
      "536/536 [==============================] - 1s 1ms/step - loss: 3.1431 - accuracy: 0.7962 - val_loss: 3.1539 - val_accuracy: 0.7955\n",
      "Epoch 48/50\n",
      "536/536 [==============================] - 1s 1ms/step - loss: 3.1431 - accuracy: 0.7962 - val_loss: 3.1539 - val_accuracy: 0.7955\n",
      "Epoch 49/50\n",
      "536/536 [==============================] - 1s 1ms/step - loss: 3.1431 - accuracy: 0.7962 - val_loss: 3.1539 - val_accuracy: 0.7955\n",
      "Epoch 50/50\n",
      "536/536 [==============================] - 1s 1ms/step - loss: 3.1431 - accuracy: 0.7962 - val_loss: 3.1539 - val_accuracy: 0.7955\n"
     ]
    }
   ],
   "source": [
    "model_history=classifier.fit(X_train,y_train,validation_split=0.33,batch_size=10,epochs=50)"
   ]
  },
  {
   "cell_type": "code",
   "execution_count": 17,
   "metadata": {},
   "outputs": [
    {
     "name": "stdout",
     "output_type": "stream",
     "text": [
      "dict_keys(['loss', 'accuracy', 'val_loss', 'val_accuracy'])\n"
     ]
    }
   ],
   "source": [
    "print(model_history.history.keys())"
   ]
  },
  {
   "cell_type": "code",
   "execution_count": 21,
   "metadata": {},
   "outputs": [
    {
     "data": {
      "image/png": "[encoded data removed]",
      "text/plain": [
       "<Figure size 432x288 with 1 Axes>"
      ]
     },
     "metadata": {
      "needs_background": "light"
     },
     "output_type": "display_data"
    }
   ],
   "source": [
    "# summarize history for accuracy\n",
    "plt.plot(model_history.history['accuracy'])\n",
    "plt.plot(model_history.history['val_accuracy'])\n",
    "plt.title('model accuracy')\n",
    "plt.ylabel('accuracy')\n",
    "plt.xlabel('epoch')\n",
    "plt.legend(['train', 'test'], loc='upper left')\n",
    "plt.show()"
   ]
  },
  {
   "cell_type": "code",
   "execution_count": 22,
   "metadata": {},
   "outputs": [
    {
     "data": {
      "image/png": "[encoded data removed]",
      "text/plain": [
       "<Figure size 432x288 with 1 Axes>"
      ]
     },
     "metadata": {
      "needs_background": "light"
     },
     "output_type": "display_data"
    }
   ],
   "source": [
    "# summarize history for loss\n",
    "plt.plot(model_history.history['loss'])\n",
    "plt.plot(model_history.history['val_loss'])\n",
    "plt.title('model loss')\n",
    "plt.ylabel('loss')\n",
    "plt.xlabel('epoch')\n",
    "plt.legend(['train', 'test'], loc='upper left')\n",
    "plt.show()"
   ]
  },
  {
   "cell_type": "code",
   "execution_count": 28,
   "metadata": {},
   "outputs": [],
   "source": [
    "# Part 3 - Making the predictions and evaluating the model\n",
    "\n",
    "# Predicting the Test set results\n",
    "y_pred = classifier.predict(X_test)\n",
    "y_pred = (y_pred > 0.5)"
   ]
  },
  {
   "cell_type": "code",
   "execution_count": 29,
   "metadata": {},
   "outputs": [
    {
     "data": {
      "text/plain": [
       "array([[1595,    0],\n",
       "       [ 405,    0]], dtype=int64)"
      ]
     },
     "execution_count": 29,
     "metadata": {},
     "output_type": "execute_result"
    }
   ],
   "source": [
    "# Making the Confusion Matrix\n",
    "from sklearn.metrics import confusion_matrix\n",
    "cm = confusion_matrix(y_test, y_pred)\n",
    "cm"
   ]
  },
  {
   "cell_type": "code",
   "execution_count": 30,
   "metadata": {},
   "outputs": [],
   "source": [
    "# Calculate the Accuracy\n",
    "from sklearn.metrics import accuracy_score\n",
    "score=accuracy_score(y_pred,y_test)"
   ]
  },
  {
   "cell_type": "code",
   "execution_count": 31,
   "metadata": {},
   "outputs": [
    {
     "data": {
      "text/plain": [
       "0.7975"
      ]
     },
     "execution_count": 31,
     "metadata": {},
     "output_type": "execute_result"
    }
   ],
   "source": [
    "score"
   ]
  },
  {
   "cell_type": "code",
   "execution_count": null,
   "metadata": {},
   "outputs": [],
   "source": []
  }
 ],
 "metadata": {
  "kernelspec": {
   "display_name": "Python 3",
   "language": "python",
   "name": "python3"
  },
  "language_info": {
   "codemirror_mode": {
    "name": "ipython",
    "version": 3
   },
   "file_extension": ".py",
   "mimetype": "text/x-python",
   "name": "python",
   "nbconvert_exporter": "python",
   "pygments_lexer": "ipython3",
   "version": "3.8.3"
  }
 },
 "nbformat": 4,
 "nbformat_minor": 4
}
